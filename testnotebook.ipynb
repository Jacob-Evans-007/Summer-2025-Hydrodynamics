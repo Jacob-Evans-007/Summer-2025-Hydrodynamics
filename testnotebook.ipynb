{
 "cells": [
  {
   "cell_type": "code",
   "execution_count": null,
   "id": "43390db1",
   "metadata": {},
   "outputs": [],
   "source": [
    "import random\n",
    "import statistics\n",
    "import matplotlib as mpl\n",
    "import matplotlib.pyplot as plt\n",
    "import numpy as np\n",
    "from scipy.integrate import odeint\n",
    "from scipy.stats import linregress\n",
    "from scipy.interpolate import interp1d\n",
    "from scipy.integrate import solve_ivp\n",
    "from scipy.constants import k as k_B  # Boltzmann constant in J/K\n",
    "from scipy.constants import G, proton_mass\n",
    "from functools import partial\n",
    "# from lab_functions_1 import Ax, vcgrab, Tc, Lambdacalc, dLdTfunc, dVcdrfunc\n",
    "import lab_functions_1 as lf\n",
    "import WiersmaCopy as Cool\n",
    "G = 6.6743*10**-8\n",
    "mp_g = proton_mass*1e3\n",
    "k_Bcgs = k_B*1e7\n",
    "mu = 0.6\n",
    "gamma = 5/3\n",
    "ktc = 3.0857e21\n",
    "etkv = 6.2415*10**8"
   ]
  },
  {
   "cell_type": "code",
   "execution_count": null,
   "id": "964fb83c",
   "metadata": {},
   "outputs": [],
   "source": [
    "# Create an instance of the cooling object\n",
    "Z2Zsun = 0.3  # solar metallicity\n",
    "z = 0.6       # redshift\n",
    "cooling = Cool.Wiersma_Cooling(Z2Zsun=Z2Zsun, z=z)\n",
    "\n",
    "# Generate random test values for T and nH\n",
    "n_samples = 5\n",
    "T_samples = 10**np.random.uniform(4.2, 8.16, size=n_samples)      # T from 1e4 to 1e8 K\n",
    "nH_samples = 10**np.random.uniform(-3.7, -0.52, size=n_samples)    # nH from 1e-6 to 1e2 cm^-3\n",
    "\n",
    "# Test LAMBDA\n",
    "print(\"T [K]       nH [cm^-3]     Lambda [erg cm^3 / s]\")\n",
    "for T, nH in zip(T_samples, nH_samples):\n",
    "    Lambda_val = cooling.LAMBDA(T, nH)\n",
    "    print(f\"{T: .2e}   {nH: .2e}     {Lambda_val: .2e}\")"
   ]
  },
  {
   "cell_type": "code",
   "execution_count": null,
   "id": "bcb4efcc",
   "metadata": {},
   "outputs": [],
   "source": [
    "left = np.array([9.3, 9.5, 9.7, 9.9, 10.1, 10.3, 10.5, 10.7, 10.9, 11.1, 11.3, 11.5, 11.7, 11.9, 12.1, 12.3, 12.5, 12.7, 12.9, \n",
    "    13.1, 13.3, 13.5, 13.7, 13.9, 14.1, 14.3, 14.5, 14.7])\n",
    "\n",
    "right = np.array([-4.560623, -4.336346, -4.1121, -3.887918, -3.663862, -3.440012, -3.216311, -2.991903, -2.763624, -2.524845, \n",
    "    -2.269454, -2.005525, -1.769973, -1.619732, -1.591587, -1.669076, -1.79781, -1.929445, -2.045038, -2.146987, -2.242711, \n",
    "    -2.336809, -2.430866, -2.525143, -2.61958, -2.714102, -2.808667, -2.903251])\n",
    "\n",
    "f = interp1d(left, right, kind='cubic', fill_value='extrapolate')\n",
    "print(f(14.79934))\n",
    "\n",
    "plt.plot(left, right, marker='o', linestyle='-', color='b')\n",
    "plt.xlabel('log10(Halo Mass)')\n",
    "plt.ylabel('log10(Stellar Mass)')\n",
    "plt.title('Stellar Mass vs Halo Mass at z ~ 0.59')\n",
    "plt.grid(True)\n",
    "plt.show()"
   ]
  },
  {
   "cell_type": "code",
   "execution_count": null,
   "id": "b08a698f",
   "metadata": {},
   "outputs": [],
   "source": [
    "from astropy.cosmology import FlatLambdaCDM\n",
    "\n",
    "cosmo = FlatLambdaCDM(H0=70, Om0=0.3, Ob0=.0457)\n",
    "z = 0.597\n",
    "rho_c = cosmo.critical_density(z)\n",
    "rho_m = cosmo.Om(z) * cosmo.critical_density(z)\n",
    "rho_m = rho_m.value\n",
    "x = cosmo.Om(z) - 1\n",
    "delc = 18 * np.pi**2 + 82 * x - 39 * x**2\n",
    "delm = delc / cosmo.Om(z)\n",
    "Rvir = (3 * 2e15 * 1.988e33 / (4 * np.pi * delm * rho_m))**(1/3)\n",
    "print(f\"Rvir = {Rvir/ktc} rs = {Rvir/(4.3*ktc)}\")"
   ]
  },
  {
   "cell_type": "code",
   "execution_count": null,
   "id": "8e96cd71",
   "metadata": {},
   "outputs": [],
   "source": [
    "delcv = 18 * np.pi**2 + 82 * (cosmo.Om(0.004) - 1) - 39 * (cosmo.Om(0.004) - 1)\n",
    "delmv = delcv / cosmo.Om(0.004)\n",
    "rho_cv = cosmo.critical_density(0.004)\n",
    "rho_mv = cosmo.Om(0.004) * rho_cv\n",
    "Rvirv = ((3 * 6.3e14 * 1.988e33 / (4 * np.pi * delmv * rho_mv))**(1/3)).value\n",
    "print(((3 * 6.3e14 * 1.988e33 / (4 * np.pi * delmv * rho_mv))**(1/3)).value / ktc)"
   ]
  },
  {
   "cell_type": "code",
   "execution_count": null,
   "id": "e2af6ecc",
   "metadata": {},
   "outputs": [],
   "source": [
    "R200c = (3 * 2e15 * 1.988e33 / (4 * np.pi * 200 * rho_c))**(1/3)\n",
    "R200m = (3 * 2e15 * 1.988e33 / (4 * np.pi * 200 * rho_m))**(1/3)\n",
    "R200cv = (3 * 6.3e14 * 1.988e33 / (4 * np.pi * 200 * rho_cv))**(1/3)\n",
    "R200mv = (3 * 6.3e14 * 1.988e33 / (4 * np.pi * 200 * rho_mv))**(1/3)\n",
    "print(f\"R200c = {(R200c/ktc).value}, Rvir = {Rvir/ktc} R200m = {(R200m/ktc)}, R200cv = {(R200cv/ktc).value}, Rvirv = {Rvirv / ktc} R200mv = {(R200mv/ktc).value}\")\n",
    "#print(f\"rho_c at z=0.004 = {rho_cv.value}, rho_m = {rho_mv.value}\")\n",
    "#print(f\"rho_c at z=0.596 = {rho_c.value}, rho_m = {rho_m}\")\n",
    "#print(cosmo.Om(0.004), cosmo.Om(0.597))"
   ]
  },
  {
   "cell_type": "code",
   "execution_count": null,
   "id": "8ab83fa8",
   "metadata": {},
   "outputs": [],
   "source": [
    "z = 0.597\n",
    "Ob0 = cosmo.Ob0  # baryon density today\n",
    "E_z = cosmo.efunc(z)  # E(z) = H(z)/H0\n",
    "\n",
    "Ob_z = Ob0 * (1 + z)**3 / E_z**2\n",
    "\n",
    "print(Ob_z)"
   ]
  },
  {
   "cell_type": "code",
   "execution_count": null,
   "id": "68f48dec",
   "metadata": {},
   "outputs": [],
   "source": [
    "print(mpl.colors.get_named_colors_mapping())"
   ]
  },
  {
   "cell_type": "code",
   "execution_count": null,
   "id": "06298e26",
   "metadata": {},
   "outputs": [],
   "source": [
    "y = np.log10(np.array([3324.598, 1522.680, 1553.475, 1297.309, 725.888, 594.173, 374.898, 346.043, 214.010, 193.623, 155.348, 137.762, 127.159, 112.765,\n",
    "    96.075, 85.199, 78.642, 69.739, 57.085, 51.647, 39.811, 35.304, 33.246, 30.079, 16.830, 14.925, 14.055, 12.716, 9.607, 8.185,\n",
    "    4.228, 3.008, 2.563, 1.975]))\n",
    "\n",
    "y_pairs = y.reshape(-1, 2)\n",
    "\n",
    "# Compute symmetric error for each pair\n",
    "errors = np.abs(y_pairs[:, 0] - y_pairs[:, 1]) / 2\n",
    "stdvi = errors**2\n",
    "\n",
    "print(stdvi)"
   ]
  },
  {
   "cell_type": "code",
   "execution_count": null,
   "id": "17fbff45",
   "metadata": {},
   "outputs": [],
   "source": [
    "T_grid = np.logspace(4.16, 10, 10000)\n",
    "L_grid = np.log10(np.array([lf.Lambdacalc(T, 1000*ktc, -1, 1) for T in T_grid]))\n",
    "L_grid2 = np.log10(np.array([lf.Lambdacalc(T, 1000*ktc, 0.3, 1) for T in T_grid]))\n",
    "\n",
    "plt.scatter(T_grid, L_grid, s=1)\n",
    "plt.scatter(T_grid, L_grid2, s=1)\n",
    "plt.xlabel('Temperature T')\n",
    "plt.ylabel('Lambda Value')\n",
    "plt.xscale('log')\n",
    "plt.xlim(10**4.16, 2e8)\n",
    "#plt.yscale('log')\n",
    "plt.title('Lambda as a function of T')\n",
    "plt.legend()\n",
    "plt.grid(True)\n",
    "plt.show()"
   ]
  },
  {
   "cell_type": "code",
   "execution_count": null,
   "id": "8e206026",
   "metadata": {},
   "outputs": [],
   "source": [
    "# Define temperature and radius grids\n",
    "T_vals = np.logspace(4.16, 8.3, 500)      # Temperature range [K]\n",
    "R_vals = np.logspace(0.14, 3.38, 500) * ktc   # Radius range [code units to physical, adjust as needed]\n",
    "\n",
    "# Create meshgrid for evaluation\n",
    "T_mesh, R_mesh = np.meshgrid(T_vals, R_vals, indexing='ij')\n",
    "\n",
    "# Evaluate Lambda for each (T, R) pair\n",
    "Lambda_grid = np.zeros_like(T_mesh)\n",
    "\n",
    "for i in range(T_mesh.shape[0]):\n",
    "    for j in range(T_mesh.shape[1]):\n",
    "        T = T_mesh[i, j]\n",
    "        R = R_mesh[i, j]\n",
    "        Lambda_grid[i, j] = lf.Lambdacalc(T, R, -1, 1)  # Replace \"a\", 1 with actual args if needed\n",
    "\n",
    "# Convert to log10 for plotting clarity\n",
    "log_Lambda = np.log10(Lambda_grid)\n",
    "\n",
    "# Plotting\n",
    "plt.figure(figsize=(8, 6))\n",
    "pcm = plt.pcolormesh(R_vals / ktc, T_vals, log_Lambda, shading='auto', cmap='viridis')\n",
    "plt.xscale('log')\n",
    "plt.yscale('log')\n",
    "plt.xlabel(\"Radius [in units of ktc]\")\n",
    "plt.ylabel(\"Temperature [K]\")\n",
    "plt.title(\"log10(Lambda) as function of Radius and Temperature\")\n",
    "cbar = plt.colorbar(pcm, label=r\"$\\log_{10}(\\Lambda)$\")\n",
    "plt.grid(True, which='both', ls='--', lw=0.5)\n",
    "plt.tight_layout()\n",
    "plt.show()"
   ]
  },
  {
   "cell_type": "code",
   "execution_count": null,
   "id": "d6de1b65",
   "metadata": {},
   "outputs": [],
   "source": [
    "from scipy.optimize import curve_fit\n",
    "rarray = np.array([13.75, 33.75, 51.25, 76.25, 115.0, 193.75, 352.5])\n",
    "zarray = np.array([0.76510, 1.04027, 0.61074, 0.63423, 0.43289, 0.24161, 0.03691])\n",
    "\n",
    "# Model function\n",
    "def model(x, A, B):\n",
    "    return A * np.exp(-x * B)\n",
    "\n",
    "# Initial parameter guess (A, B, C)\n",
    "initial_guess = [1.0, 0.01]\n",
    "\n",
    "# Curve fitting\n",
    "popt, pcov = curve_fit(model, rarray, zarray, p0=initial_guess)\n",
    "\n",
    "# Extract fitted parameters\n",
    "A_fit, B_fit = popt\n",
    "print(f\"Fitted parameters:\\nA = {A_fit:.5f}, B = {B_fit:.5f}\")\n",
    "\n",
    "# Plotting\n",
    "x_fit = np.linspace(min(rarray), max(zarray), 300)\n",
    "y_fit = model(x_fit, *popt)\n",
    "\n",
    "plt.scatter(rarray, zarray, label=\"Data\", color='red')\n",
    "plt.plot(x_fit, y_fit, label=\"Fit: $Ae^{-xB} + C$\", color='blue')\n",
    "plt.xlabel(\"x\")\n",
    "plt.ylabel(\"y\")\n",
    "plt.legend()\n",
    "plt.title(\"Exponential Decay Fit\")\n",
    "plt.grid(True)\n",
    "plt.show()"
   ]
  },
  {
   "cell_type": "code",
   "execution_count": null,
   "id": "b7516513",
   "metadata": {},
   "outputs": [],
   "source": []
  }
 ],
 "metadata": {
  "kernelspec": {
   "display_name": "Python 3",
   "language": "python",
   "name": "python3"
  },
  "language_info": {
   "codemirror_mode": {
    "name": "ipython",
    "version": 3
   },
   "file_extension": ".py",
   "mimetype": "text/x-python",
   "name": "python",
   "nbconvert_exporter": "python",
   "pygments_lexer": "ipython3",
   "version": "3.13.5"
  }
 },
 "nbformat": 4,
 "nbformat_minor": 5
}
